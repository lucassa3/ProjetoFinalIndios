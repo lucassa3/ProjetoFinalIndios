{
 "cells": [
  {
   "cell_type": "code",
   "execution_count": 1,
   "metadata": {},
   "outputs": [
    {
     "data": {
      "text/html": [
       "<script>requirejs.config({paths: { 'plotly': ['https://cdn.plot.ly/plotly-latest.min']},});if(!window.Plotly) {{require(['plotly'],function(plotly) {window.Plotly=plotly;});}}</script>"
      ],
      "text/vnd.plotly.v1+html": [
       "<script>requirejs.config({paths: { 'plotly': ['https://cdn.plot.ly/plotly-latest.min']},});if(!window.Plotly) {{require(['plotly'],function(plotly) {window.Plotly=plotly;});}}</script>"
      ]
     },
     "metadata": {},
     "output_type": "display_data"
    }
   ],
   "source": [
    "import sys\n",
    "import numpy as np\n",
    "from math import inf, isinf\n",
    "from queue import Queue\n",
    "from random import randint\n",
    "import random\n",
    "sys.path.append('..')\n",
    "\n",
    "import socnet as sn"
   ]
  },
  {
   "cell_type": "code",
   "execution_count": 2,
   "metadata": {
    "collapsed": true
   },
   "outputs": [],
   "source": [
    "sn.graph_width = 400\n",
    "sn.graph_height = 225\n",
    "\n",
    "sn.edge_width = 1"
   ]
  },
  {
   "cell_type": "code",
   "execution_count": 3,
   "metadata": {},
   "outputs": [
    {
     "ename": "FileNotFoundError",
     "evalue": "[Errno 2] No such file or directory: 'cutura.gml'",
     "output_type": "error",
     "traceback": [
      "\u001b[1;31m---------------------------------------------------------------------------\u001b[0m",
      "\u001b[1;31mFileNotFoundError\u001b[0m                         Traceback (most recent call last)",
      "\u001b[1;32m<ipython-input-3-03957dd7a26c>\u001b[0m in \u001b[0;36m<module>\u001b[1;34m()\u001b[0m\n\u001b[0;32m      1\u001b[0m \u001b[0mhistoria\u001b[0m \u001b[1;33m=\u001b[0m \u001b[0msn\u001b[0m\u001b[1;33m.\u001b[0m\u001b[0mload_graph\u001b[0m\u001b[1;33m(\u001b[0m\u001b[1;34m'historia.gml'\u001b[0m\u001b[1;33m,\u001b[0m \u001b[0mhas_pos\u001b[0m\u001b[1;33m=\u001b[0m\u001b[1;32mFalse\u001b[0m\u001b[1;33m)\u001b[0m\u001b[1;33m\u001b[0m\u001b[0m\n\u001b[1;32m----> 2\u001b[1;33m \u001b[0mcultura\u001b[0m \u001b[1;33m=\u001b[0m \u001b[0msn\u001b[0m\u001b[1;33m.\u001b[0m\u001b[0mload_graph\u001b[0m\u001b[1;33m(\u001b[0m\u001b[1;34m'cutura.gml'\u001b[0m\u001b[1;33m,\u001b[0m \u001b[0mhas_pos\u001b[0m\u001b[1;33m=\u001b[0m\u001b[1;32mFalse\u001b[0m\u001b[1;33m)\u001b[0m\u001b[1;33m\u001b[0m\u001b[0m\n\u001b[0m\u001b[0;32m      3\u001b[0m \u001b[0mdieta\u001b[0m \u001b[1;33m=\u001b[0m \u001b[0msn\u001b[0m\u001b[1;33m.\u001b[0m\u001b[0mload_graph\u001b[0m\u001b[1;33m(\u001b[0m\u001b[1;34m'dieta.gml'\u001b[0m\u001b[1;33m,\u001b[0m \u001b[0mhas_pos\u001b[0m\u001b[1;33m=\u001b[0m\u001b[1;32mFalse\u001b[0m\u001b[1;33m)\u001b[0m\u001b[1;33m\u001b[0m\u001b[0m\n\u001b[0;32m      4\u001b[0m \u001b[0mlingua\u001b[0m \u001b[1;33m=\u001b[0m \u001b[0msn\u001b[0m\u001b[1;33m.\u001b[0m\u001b[0mload_graph\u001b[0m\u001b[1;33m(\u001b[0m\u001b[1;34m'lingua.gml'\u001b[0m\u001b[1;33m,\u001b[0m \u001b[0mhas_pos\u001b[0m\u001b[1;33m=\u001b[0m\u001b[1;32mFalse\u001b[0m\u001b[1;33m)\u001b[0m\u001b[1;33m\u001b[0m\u001b[0m\n\u001b[0;32m      5\u001b[0m \u001b[0mloc_pop\u001b[0m \u001b[1;33m=\u001b[0m \u001b[0msn\u001b[0m\u001b[1;33m.\u001b[0m\u001b[0mload_graph\u001b[0m\u001b[1;33m(\u001b[0m\u001b[1;34m'loc_pop.gml'\u001b[0m\u001b[1;33m,\u001b[0m \u001b[0mhas_pos\u001b[0m\u001b[1;33m=\u001b[0m\u001b[1;32mFalse\u001b[0m\u001b[1;33m)\u001b[0m\u001b[1;33m\u001b[0m\u001b[0m\n",
      "\u001b[1;32m~\\Documents\\GitHub\\ProjetoFinalIndios\\socnet.py\u001b[0m in \u001b[0;36mload_graph\u001b[1;34m(path, has_pos)\u001b[0m\n\u001b[0;32m    242\u001b[0m \u001b[1;33m\u001b[0m\u001b[0m\n\u001b[0;32m    243\u001b[0m \u001b[1;32mdef\u001b[0m \u001b[0mload_graph\u001b[0m\u001b[1;33m(\u001b[0m\u001b[0mpath\u001b[0m\u001b[1;33m,\u001b[0m \u001b[0mhas_pos\u001b[0m\u001b[1;33m=\u001b[0m\u001b[1;32mFalse\u001b[0m\u001b[1;33m)\u001b[0m\u001b[1;33m:\u001b[0m\u001b[1;33m\u001b[0m\u001b[0m\n\u001b[1;32m--> 244\u001b[1;33m     \u001b[0mg\u001b[0m \u001b[1;33m=\u001b[0m \u001b[0mnetworkx\u001b[0m\u001b[1;33m.\u001b[0m\u001b[0mread_gml\u001b[0m\u001b[1;33m(\u001b[0m\u001b[0mpath\u001b[0m\u001b[1;33m,\u001b[0m \u001b[0mlabel\u001b[0m\u001b[1;33m=\u001b[0m\u001b[1;34m'id'\u001b[0m\u001b[1;33m)\u001b[0m\u001b[1;33m\u001b[0m\u001b[0m\n\u001b[0m\u001b[0;32m    245\u001b[0m \u001b[1;33m\u001b[0m\u001b[0m\n\u001b[0;32m    246\u001b[0m     \u001b[0mreset_node_colors\u001b[0m\u001b[1;33m(\u001b[0m\u001b[0mg\u001b[0m\u001b[1;33m)\u001b[0m\u001b[1;33m\u001b[0m\u001b[0m\n",
      "\u001b[1;32m<decorator-gen-503>\u001b[0m in \u001b[0;36mread_gml\u001b[1;34m(path, label, destringizer)\u001b[0m\n",
      "\u001b[1;32m~\\Anaconda3\\lib\\site-packages\\networkx\\utils\\decorators.py\u001b[0m in \u001b[0;36m_open_file\u001b[1;34m(func, *args, **kwargs)\u001b[0m\n\u001b[0;32m    200\u001b[0m         \u001b[1;32mif\u001b[0m \u001b[0mis_string_like\u001b[0m\u001b[1;33m(\u001b[0m\u001b[0mpath\u001b[0m\u001b[1;33m)\u001b[0m\u001b[1;33m:\u001b[0m\u001b[1;33m\u001b[0m\u001b[0m\n\u001b[0;32m    201\u001b[0m             \u001b[0mext\u001b[0m \u001b[1;33m=\u001b[0m \u001b[0msplitext\u001b[0m\u001b[1;33m(\u001b[0m\u001b[0mpath\u001b[0m\u001b[1;33m)\u001b[0m\u001b[1;33m[\u001b[0m\u001b[1;36m1\u001b[0m\u001b[1;33m]\u001b[0m\u001b[1;33m\u001b[0m\u001b[0m\n\u001b[1;32m--> 202\u001b[1;33m             \u001b[0mfobj\u001b[0m \u001b[1;33m=\u001b[0m \u001b[0m_dispatch_dict\u001b[0m\u001b[1;33m[\u001b[0m\u001b[0mext\u001b[0m\u001b[1;33m]\u001b[0m\u001b[1;33m(\u001b[0m\u001b[0mpath\u001b[0m\u001b[1;33m,\u001b[0m \u001b[0mmode\u001b[0m\u001b[1;33m=\u001b[0m\u001b[0mmode\u001b[0m\u001b[1;33m)\u001b[0m\u001b[1;33m\u001b[0m\u001b[0m\n\u001b[0m\u001b[0;32m    203\u001b[0m             \u001b[0mclose_fobj\u001b[0m \u001b[1;33m=\u001b[0m \u001b[1;32mTrue\u001b[0m\u001b[1;33m\u001b[0m\u001b[0m\n\u001b[0;32m    204\u001b[0m         \u001b[1;32melif\u001b[0m \u001b[0mhasattr\u001b[0m\u001b[1;33m(\u001b[0m\u001b[0mpath\u001b[0m\u001b[1;33m,\u001b[0m \u001b[1;34m'read'\u001b[0m\u001b[1;33m)\u001b[0m\u001b[1;33m:\u001b[0m\u001b[1;33m\u001b[0m\u001b[0m\n",
      "\u001b[1;31mFileNotFoundError\u001b[0m: [Errno 2] No such file or directory: 'cutura.gml'"
     ]
    }
   ],
   "source": [
    "historia = sn.load_graph('historia.gml', has_pos=False)\n",
    "cultura = sn.load_graph('cultura.gml', has_pos=False)\n",
    "dieta = sn.load_graph('dieta.gml', has_pos=False)\n",
    "lingua = sn.load_graph('lingua.gml', has_pos=False)\n",
    "loc_pop = sn.load_graph('loc_pop.gml', has_pos=False)\n",
    "religiao = sn.load_graph(\"religiao.gml\", has_pos=False)\n",
    "\n",
    "geral = sn.load_graph('geral.gml', has_pos=False)"
   ]
  },
  {
   "cell_type": "code",
   "execution_count": 4,
   "metadata": {},
   "outputs": [
    {
     "ename": "NameError",
     "evalue": "name 'geral' is not defined",
     "output_type": "error",
     "traceback": [
      "\u001b[1;31m---------------------------------------------------------------------------\u001b[0m",
      "\u001b[1;31mNameError\u001b[0m                                 Traceback (most recent call last)",
      "\u001b[1;32m<ipython-input-4-4e9887338bf7>\u001b[0m in \u001b[0;36m<module>\u001b[1;34m()\u001b[0m\n\u001b[1;32m----> 1\u001b[1;33m \u001b[1;32mfor\u001b[0m \u001b[0mn\u001b[0m \u001b[1;32min\u001b[0m \u001b[0mgeral\u001b[0m\u001b[1;33m.\u001b[0m\u001b[0mnodes\u001b[0m\u001b[1;33m(\u001b[0m\u001b[1;33m)\u001b[0m\u001b[1;33m:\u001b[0m\u001b[1;33m\u001b[0m\u001b[0m\n\u001b[0m\u001b[0;32m      2\u001b[0m     \u001b[0mgeral\u001b[0m\u001b[1;33m.\u001b[0m\u001b[0mnode\u001b[0m\u001b[1;33m[\u001b[0m\u001b[0mn\u001b[0m\u001b[1;33m]\u001b[0m\u001b[1;33m[\u001b[0m\u001b[1;34m'pagerank'\u001b[0m\u001b[1;33m]\u001b[0m \u001b[1;33m=\u001b[0m \u001b[1;36m0\u001b[0m\u001b[1;33m\u001b[0m\u001b[0m\n\u001b[0;32m      3\u001b[0m \u001b[1;33m\u001b[0m\u001b[0m\n\u001b[0;32m      4\u001b[0m \u001b[1;32mdef\u001b[0m \u001b[0mequals\u001b[0m\u001b[1;33m(\u001b[0m\u001b[0ma\u001b[0m\u001b[1;33m,\u001b[0m \u001b[0mb\u001b[0m\u001b[1;33m)\u001b[0m\u001b[1;33m:\u001b[0m\u001b[1;33m\u001b[0m\u001b[0m\n\u001b[0;32m      5\u001b[0m     \u001b[1;32mreturn\u001b[0m \u001b[0mabs\u001b[0m\u001b[1;33m(\u001b[0m\u001b[0ma\u001b[0m \u001b[1;33m-\u001b[0m \u001b[0mb\u001b[0m\u001b[1;33m)\u001b[0m \u001b[1;33m<\u001b[0m \u001b[1;36m0.000000001\u001b[0m\u001b[1;33m\u001b[0m\u001b[0m\n",
      "\u001b[1;31mNameError\u001b[0m: name 'geral' is not defined"
     ]
    }
   ],
   "source": [
    "for n in geral.nodes():\n",
    "    geral.node[n]['pagerank'] = 0\n",
    "    \n",
    "def equals(a, b):\n",
    "    return abs(a - b) < 0.000000001\n",
    "\n",
    "\n",
    "def calculate_pagerank(g):\n",
    "    length = g.number_of_nodes()\n",
    "\n",
    "    k = 10\n",
    "    scale = 0.8\n",
    "    residue = (1 - scale) / length\n",
    "\n",
    "    R = sn.build_matrix(g)\n",
    "\n",
    "    for n in g.nodes:\n",
    "        total = np.sum(R[n,])\n",
    "\n",
    "        if equals(total, 0):\n",
    "            R[n, n] = 1\n",
    "        else:\n",
    "            R[n,] /= total\n",
    "\n",
    "    R = scale * R + residue\n",
    "\n",
    "    Rt = R.transpose()\n",
    "\n",
    "    rank = 1 / length\n",
    "\n",
    "    r = np.full((length, 1), rank)\n",
    "\n",
    "    for _ in range(k):\n",
    "        r = Rt.dot(r)\n",
    "\n",
    "    for n in g.nodes:\n",
    "        g.nodes[n]['pagerank'] = r[n, 0]"
   ]
  },
  {
   "cell_type": "code",
   "execution_count": 26,
   "metadata": {
    "collapsed": true
   },
   "outputs": [],
   "source": [
    "topicos = [historia, cultura, dieta, lingua, loc_pop, religiao, geral]\n",
    "\n",
    "tribos = ['guaranis', 'caingangue', 'pataxós', \n",
    "          'caetes', 'caiapos', 'guajajaras', \n",
    "          'ianomamis', 'potiguaras', 'macuxi', 'marubos','tapuias', 'terenas', 'ticunas', 'xavantes' ]\n",
    "\n",
    "\n",
    "for t in topicos:\n",
    "  \n",
    "    for n in t.nodes():\n",
    "        t.node[n]['nome'] = tribos[n]"
   ]
  },
  {
   "cell_type": "code",
   "execution_count": 27,
   "metadata": {
    "collapsed": true
   },
   "outputs": [],
   "source": [
    "def add_edge(g, n, m):\n",
    "    g.add_edge(n,m)\n",
    "    g.edges[n,m]['color'] = (0,0,0)"
   ]
  },
  {
   "cell_type": "code",
   "execution_count": 28,
   "metadata": {
    "collapsed": true
   },
   "outputs": [],
   "source": [
    "for n in historia.nodes():\n",
    "    for m in historia.neighbors(n):\n",
    "        print(m)"
   ]
  },
  {
   "cell_type": "code",
   "execution_count": 29,
   "metadata": {
    "collapsed": true
   },
   "outputs": [],
   "source": [
    "for t in topicos:\n",
    "    for n in t.nodes():\n",
    "        for m in t.nodes():\n",
    "            \n",
    "            x = randint(0,50)\n",
    "\n",
    "            if x > 45 and n != m:\n",
    "                add_edge(t, n, m)\n",
    "    \n",
    "    \n",
    "    for s in t.nodes():\n",
    "        \n",
    "        v = []\n",
    "        \n",
    "        for m in t.neighbors(s):\n",
    "            v.append(m)\n",
    "            \n",
    "        if len(v) < 2:\n",
    "            \n",
    "            some_node = randint(0,13)\n",
    "            add_edge(t, s, some_node)\n",
    "            \n",
    "            some_other_node = randint(0,13)\n",
    "            add_edge(t, s, some_other_node)\n",
    "            "
   ]
  },
  {
   "cell_type": "code",
   "execution_count": 30,
   "metadata": {},
   "outputs": [
    {
     "data": {
      "text/plain": [
       "['ianomamis', 'pataxós']"
      ]
     },
     "execution_count": 30,
     "metadata": {},
     "output_type": "execute_result"
    }
   ],
   "source": [
    "def links(g, trib):\n",
    "    \n",
    "    for n in g.nodes():\n",
    "        if g.node[n]['nome'] == trib:\n",
    "            \n",
    "            vizinhos = []\n",
    "            for m in g.neighbors(n):\n",
    "                vizinhos.append(m)\n",
    "    \n",
    "    temp = random.sample(set(vizinhos), 2)\n",
    "    \n",
    "    ans = []\n",
    "    for num in temp:\n",
    "        \n",
    "        ans.append(g.node[num]['nome'])\n",
    "        \n",
    "    return ans\n",
    "    \n",
    "links(loc_pop, 'potiguaras')"
   ]
  },
  {
   "cell_type": "code",
   "execution_count": 31,
   "metadata": {},
   "outputs": [
    {
     "data": {
      "application/vnd.plotly.v1+json": {
       "data": [
        {
         "hoverinfo": "none",
         "line": {
          "color": "rgb(0, 0, 0)",
          "width": 1
         },
         "mode": "lines",
         "x": [
          0.35663236965201683,
          0,
          null,
          0.35663236965201683,
          0.13152306749829026,
          null,
          0.35663236965201683,
          0.37843757512342413,
          null,
          0.35663236965201683,
          0.9495807037784864,
          null,
          0,
          0.008966293159089514,
          null,
          0,
          0.37843757512342413,
          null,
          0.008966293159089514,
          0.13093532644897854,
          null,
          0.008966293159089514,
          0.5814870408098446,
          null,
          0.13152306749829026,
          0.13093532644897854,
          null,
          0.13152306749829026,
          0.9314528090995734,
          null,
          0.8674428141011655,
          0.13093532644897854,
          null,
          0.8674428141011655,
          0.5814870408098446,
          null,
          0.8674428141011655,
          1,
          null,
          0.9314528090995734,
          0.8038160303924707,
          null,
          0.9495807037784864,
          0.044502556020511314,
          null,
          0.9495807037784864,
          0.8038160303924707,
          null,
          1,
          0.8038160303924707,
          null,
          0.13093532644897854,
          0.5814870408098446,
          null,
          0.13093532644897854,
          0.6223938123090358,
          null,
          0.044502556020511314,
          0.6223938123090358,
          null,
          0.8038160303924707,
          0.5814870408098446,
          null,
          0.6223938123090358,
          0.5814870408098446,
          null,
          0.6223938123090358,
          0.37843757512342413,
          null,
          0.5814870408098446,
          0.37843757512342413,
          null
         ],
         "y": [
          1,
          0.470265286391906,
          null,
          1,
          0.8993631510666223,
          null,
          1,
          0.017576800911152792,
          null,
          1,
          0.7065411760972177,
          null,
          0.470265286391906,
          0.6940292755788547,
          null,
          0.470265286391906,
          0.017576800911152792,
          null,
          0.6940292755788547,
          0.023918278691715422,
          null,
          0.6940292755788547,
          0.9664073760236722,
          null,
          0.8993631510666223,
          0.023918278691715422,
          null,
          0.8993631510666223,
          0.495340680749101,
          null,
          0.09190022016339666,
          0.023918278691715422,
          null,
          0.09190022016339666,
          0.9664073760236722,
          null,
          0.09190022016339666,
          0.332276982047909,
          null,
          0.495340680749101,
          0.9028786759792276,
          null,
          0.7065411760972177,
          0.24767036531552353,
          null,
          0.7065411760972177,
          0.9028786759792276,
          null,
          0.332276982047909,
          0.9028786759792276,
          null,
          0.023918278691715422,
          0.9664073760236722,
          null,
          0.023918278691715422,
          0,
          null,
          0.24767036531552353,
          0,
          null,
          0.9028786759792276,
          0.9664073760236722,
          null,
          0,
          0.9664073760236722,
          null,
          0,
          0.017576800911152792,
          null,
          0.9664073760236722,
          0.017576800911152792,
          null
         ]
        },
        {
         "hoverinfo": "none",
         "marker": {
          "color": "rgb(255, 255, 255)",
          "line": {
           "color": "rgb(0, 0, 0)",
           "width": 1
          },
          "size": 20
         },
         "mode": "markers+text",
         "text": [],
         "textfont": {
          "color": "rgb(0, 0, 0)"
         },
         "textposition": "middle center",
         "x": [
          0.35663236965201683,
          0,
          0.008966293159089514,
          0.13152306749829026,
          0.8674428141011655,
          0.9314528090995734,
          0.9495807037784864,
          1,
          0.13093532644897854,
          0.044502556020511314,
          0.8038160303924707,
          0.6223938123090358,
          0.5814870408098446,
          0.37843757512342413
         ],
         "y": [
          1,
          0.470265286391906,
          0.6940292755788547,
          0.8993631510666223,
          0.09190022016339666,
          0.495340680749101,
          0.7065411760972177,
          0.332276982047909,
          0.023918278691715422,
          0.24767036531552353,
          0.9028786759792276,
          0,
          0.9664073760236722,
          0.017576800911152792
         ]
        }
       ],
       "layout": {
        "height": 225,
        "margin": {
         "b": 0,
         "l": 0,
         "r": 0,
         "t": 0
        },
        "showlegend": false,
        "width": 400,
        "xaxis": {
         "showgrid": false,
         "showticklabels": false,
         "zeroline": false
        },
        "yaxis": {
         "showgrid": false,
         "showticklabels": false,
         "zeroline": false
        }
       }
      },
      "text/html": [
       "<div id=\"c4864f0d-a971-4727-b904-9c6451031c83\" style=\"height: 225px; width: 400px;\" class=\"plotly-graph-div\"></div><script type=\"text/javascript\">require([\"plotly\"], function(Plotly) { window.PLOTLYENV=window.PLOTLYENV || {};window.PLOTLYENV.BASE_URL=\"https://plot.ly\";Plotly.newPlot(\"c4864f0d-a971-4727-b904-9c6451031c83\", [{\"line\": {\"width\": 1, \"color\": \"rgb(0, 0, 0)\"}, \"hoverinfo\": \"none\", \"x\": [0.35663236965201683, 0.0, null, 0.35663236965201683, 0.13152306749829026, null, 0.35663236965201683, 0.37843757512342413, null, 0.35663236965201683, 0.9495807037784864, null, 0.0, 0.008966293159089514, null, 0.0, 0.37843757512342413, null, 0.008966293159089514, 0.13093532644897854, null, 0.008966293159089514, 0.5814870408098446, null, 0.13152306749829026, 0.13093532644897854, null, 0.13152306749829026, 0.9314528090995734, null, 0.8674428141011655, 0.13093532644897854, null, 0.8674428141011655, 0.5814870408098446, null, 0.8674428141011655, 1.0, null, 0.9314528090995734, 0.8038160303924707, null, 0.9495807037784864, 0.044502556020511314, null, 0.9495807037784864, 0.8038160303924707, null, 1.0, 0.8038160303924707, null, 0.13093532644897854, 0.5814870408098446, null, 0.13093532644897854, 0.6223938123090358, null, 0.044502556020511314, 0.6223938123090358, null, 0.8038160303924707, 0.5814870408098446, null, 0.6223938123090358, 0.5814870408098446, null, 0.6223938123090358, 0.37843757512342413, null, 0.5814870408098446, 0.37843757512342413, null], \"y\": [1.0, 0.470265286391906, null, 1.0, 0.8993631510666223, null, 1.0, 0.017576800911152792, null, 1.0, 0.7065411760972177, null, 0.470265286391906, 0.6940292755788547, null, 0.470265286391906, 0.017576800911152792, null, 0.6940292755788547, 0.023918278691715422, null, 0.6940292755788547, 0.9664073760236722, null, 0.8993631510666223, 0.023918278691715422, null, 0.8993631510666223, 0.495340680749101, null, 0.09190022016339666, 0.023918278691715422, null, 0.09190022016339666, 0.9664073760236722, null, 0.09190022016339666, 0.332276982047909, null, 0.495340680749101, 0.9028786759792276, null, 0.7065411760972177, 0.24767036531552353, null, 0.7065411760972177, 0.9028786759792276, null, 0.332276982047909, 0.9028786759792276, null, 0.023918278691715422, 0.9664073760236722, null, 0.023918278691715422, 0.0, null, 0.24767036531552353, 0.0, null, 0.9028786759792276, 0.9664073760236722, null, 0.0, 0.9664073760236722, null, 0.0, 0.017576800911152792, null, 0.9664073760236722, 0.017576800911152792, null], \"mode\": \"lines\"}, {\"textposition\": \"middle center\", \"text\": [], \"y\": [1.0, 0.470265286391906, 0.6940292755788547, 0.8993631510666223, 0.09190022016339666, 0.495340680749101, 0.7065411760972177, 0.332276982047909, 0.023918278691715422, 0.24767036531552353, 0.9028786759792276, 0.0, 0.9664073760236722, 0.017576800911152792], \"mode\": \"markers+text\", \"hoverinfo\": \"none\", \"x\": [0.35663236965201683, 0.0, 0.008966293159089514, 0.13152306749829026, 0.8674428141011655, 0.9314528090995734, 0.9495807037784864, 1.0, 0.13093532644897854, 0.044502556020511314, 0.8038160303924707, 0.6223938123090358, 0.5814870408098446, 0.37843757512342413], \"textfont\": {\"color\": \"rgb(0, 0, 0)\"}, \"marker\": {\"line\": {\"width\": 1, \"color\": \"rgb(0, 0, 0)\"}, \"size\": 20, \"color\": \"rgb(255, 255, 255)\"}}], {\"margin\": {\"l\": 0, \"t\": 0, \"b\": 0, \"r\": 0}, \"yaxis\": {\"showgrid\": false, \"zeroline\": false, \"showticklabels\": false}, \"xaxis\": {\"showgrid\": false, \"zeroline\": false, \"showticklabels\": false}, \"height\": 225, \"showlegend\": false, \"width\": 400}, {\"displayModeBar\": false, \"showLink\": false, \"linkText\": \"Export to plot.ly\"})});</script>"
      ],
      "text/vnd.plotly.v1+html": [
       "<div id=\"c4864f0d-a971-4727-b904-9c6451031c83\" style=\"height: 225px; width: 400px;\" class=\"plotly-graph-div\"></div><script type=\"text/javascript\">require([\"plotly\"], function(Plotly) { window.PLOTLYENV=window.PLOTLYENV || {};window.PLOTLYENV.BASE_URL=\"https://plot.ly\";Plotly.newPlot(\"c4864f0d-a971-4727-b904-9c6451031c83\", [{\"line\": {\"width\": 1, \"color\": \"rgb(0, 0, 0)\"}, \"hoverinfo\": \"none\", \"x\": [0.35663236965201683, 0.0, null, 0.35663236965201683, 0.13152306749829026, null, 0.35663236965201683, 0.37843757512342413, null, 0.35663236965201683, 0.9495807037784864, null, 0.0, 0.008966293159089514, null, 0.0, 0.37843757512342413, null, 0.008966293159089514, 0.13093532644897854, null, 0.008966293159089514, 0.5814870408098446, null, 0.13152306749829026, 0.13093532644897854, null, 0.13152306749829026, 0.9314528090995734, null, 0.8674428141011655, 0.13093532644897854, null, 0.8674428141011655, 0.5814870408098446, null, 0.8674428141011655, 1.0, null, 0.9314528090995734, 0.8038160303924707, null, 0.9495807037784864, 0.044502556020511314, null, 0.9495807037784864, 0.8038160303924707, null, 1.0, 0.8038160303924707, null, 0.13093532644897854, 0.5814870408098446, null, 0.13093532644897854, 0.6223938123090358, null, 0.044502556020511314, 0.6223938123090358, null, 0.8038160303924707, 0.5814870408098446, null, 0.6223938123090358, 0.5814870408098446, null, 0.6223938123090358, 0.37843757512342413, null, 0.5814870408098446, 0.37843757512342413, null], \"y\": [1.0, 0.470265286391906, null, 1.0, 0.8993631510666223, null, 1.0, 0.017576800911152792, null, 1.0, 0.7065411760972177, null, 0.470265286391906, 0.6940292755788547, null, 0.470265286391906, 0.017576800911152792, null, 0.6940292755788547, 0.023918278691715422, null, 0.6940292755788547, 0.9664073760236722, null, 0.8993631510666223, 0.023918278691715422, null, 0.8993631510666223, 0.495340680749101, null, 0.09190022016339666, 0.023918278691715422, null, 0.09190022016339666, 0.9664073760236722, null, 0.09190022016339666, 0.332276982047909, null, 0.495340680749101, 0.9028786759792276, null, 0.7065411760972177, 0.24767036531552353, null, 0.7065411760972177, 0.9028786759792276, null, 0.332276982047909, 0.9028786759792276, null, 0.023918278691715422, 0.9664073760236722, null, 0.023918278691715422, 0.0, null, 0.24767036531552353, 0.0, null, 0.9028786759792276, 0.9664073760236722, null, 0.0, 0.9664073760236722, null, 0.0, 0.017576800911152792, null, 0.9664073760236722, 0.017576800911152792, null], \"mode\": \"lines\"}, {\"textposition\": \"middle center\", \"text\": [], \"y\": [1.0, 0.470265286391906, 0.6940292755788547, 0.8993631510666223, 0.09190022016339666, 0.495340680749101, 0.7065411760972177, 0.332276982047909, 0.023918278691715422, 0.24767036531552353, 0.9028786759792276, 0.0, 0.9664073760236722, 0.017576800911152792], \"mode\": \"markers+text\", \"hoverinfo\": \"none\", \"x\": [0.35663236965201683, 0.0, 0.008966293159089514, 0.13152306749829026, 0.8674428141011655, 0.9314528090995734, 0.9495807037784864, 1.0, 0.13093532644897854, 0.044502556020511314, 0.8038160303924707, 0.6223938123090358, 0.5814870408098446, 0.37843757512342413], \"textfont\": {\"color\": \"rgb(0, 0, 0)\"}, \"marker\": {\"line\": {\"width\": 1, \"color\": \"rgb(0, 0, 0)\"}, \"size\": 20, \"color\": \"rgb(255, 255, 255)\"}}], {\"margin\": {\"l\": 0, \"t\": 0, \"b\": 0, \"r\": 0}, \"yaxis\": {\"showgrid\": false, \"zeroline\": false, \"showticklabels\": false}, \"xaxis\": {\"showgrid\": false, \"zeroline\": false, \"showticklabels\": false}, \"height\": 225, \"showlegend\": false, \"width\": 400}, {\"displayModeBar\": false, \"showLink\": false, \"linkText\": \"Export to plot.ly\"})});</script>"
      ]
     },
     "metadata": {},
     "output_type": "display_data"
    }
   ],
   "source": [
    "sn.show_graph(geral)"
   ]
  },
  {
   "cell_type": "code",
   "execution_count": 32,
   "metadata": {
    "collapsed": true
   },
   "outputs": [],
   "source": [
    "calculate_pagerank(geral)\n",
    "\n",
    "pr = []\n",
    "for n in geral.nodes():\n",
    "    pr.append((geral.node[n]['nome'],geral.node[n]['pagerank']))"
   ]
  },
  {
   "cell_type": "code",
   "execution_count": 33,
   "metadata": {},
   "outputs": [
    {
     "data": {
      "text/plain": [
       "[('guaranis', 0.082056740951152687),\n",
       " ('caingangue', 0.062677749325776716),\n",
       " ('pataxós', 0.061237189748663996),\n",
       " ('caetes', 0.065640991339598234),\n",
       " ('caiapos', 0.063943441547225033),\n",
       " ('guajajaras', 0.049058626173225831),\n",
       " ('ianomamis', 0.067182708805626712),\n",
       " ('potiguaras', 0.048611991879977584),\n",
       " ('macuxi', 0.09600775021812305),\n",
       " ('marubos', 0.048072177486523246),\n",
       " ('tapuias', 0.086091505093414067),\n",
       " ('terenas', 0.079408081462273489),\n",
       " ('ticunas', 0.11182729583945221),\n",
       " ('xavantes', 0.078183750128967028)]"
      ]
     },
     "execution_count": 33,
     "metadata": {},
     "output_type": "execute_result"
    }
   ],
   "source": [
    "pr"
   ]
  },
  {
   "cell_type": "code",
   "execution_count": null,
   "metadata": {
    "collapsed": true
   },
   "outputs": [],
   "source": []
  }
 ],
 "metadata": {
  "kernelspec": {
   "display_name": "Python 3",
   "language": "python",
   "name": "python3"
  },
  "language_info": {
   "codemirror_mode": {
    "name": "ipython",
    "version": 3
   },
   "file_extension": ".py",
   "mimetype": "text/x-python",
   "name": "python",
   "nbconvert_exporter": "python",
   "pygments_lexer": "ipython3",
   "version": "3.6.3"
  }
 },
 "nbformat": 4,
 "nbformat_minor": 2
}
