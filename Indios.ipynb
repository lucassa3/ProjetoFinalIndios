{
 "cells": [
  {
   "cell_type": "code",
   "execution_count": 1,
   "metadata": {},
   "outputs": [
    {
     "data": {
      "text/html": [
       "<script>requirejs.config({paths: { 'plotly': ['https://cdn.plot.ly/plotly-latest.min']},});if(!window.Plotly) {{require(['plotly'],function(plotly) {window.Plotly=plotly;});}}</script>"
      ],
      "text/vnd.plotly.v1+html": [
       "<script>requirejs.config({paths: { 'plotly': ['https://cdn.plot.ly/plotly-latest.min']},});if(!window.Plotly) {{require(['plotly'],function(plotly) {window.Plotly=plotly;});}}</script>"
      ]
     },
     "metadata": {},
     "output_type": "display_data"
    }
   ],
   "source": [
    "import sys\n",
    "import numpy as np\n",
    "from math import inf, isinf\n",
    "from queue import Queue\n",
    "from random import randint\n",
    "import random\n",
    "sys.path.append('..')\n",
    "\n",
    "import socnet as sn"
   ]
  },
  {
   "cell_type": "code",
   "execution_count": 2,
   "metadata": {
    "collapsed": true
   },
   "outputs": [],
   "source": [
    "sn.graph_width = 400\n",
    "sn.graph_height = 225\n",
    "\n",
    "sn.edge_width = 1"
   ]
  },
  {
   "cell_type": "code",
   "execution_count": 5,
   "metadata": {},
   "outputs": [],
   "source": [
    "historia = sn.load_graph('historia.gml', has_pos=False)\n",
    "cultura = sn.load_graph('cultura.gml', has_pos=False)\n",
    "dieta = sn.load_graph('dieta.gml', has_pos=False)\n",
    "lingua = sn.load_graph('lingua.gml', has_pos=False)\n",
    "loc_pop = sn.load_graph('loc_pop.gml', has_pos=False)\n",
    "religiao = sn.load_graph(\"religiao.gml\", has_pos=False)\n",
    "\n",
    "geral = sn.load_graph('geral.gml', has_pos=False)"
   ]
  },
  {
   "cell_type": "code",
   "execution_count": 6,
   "metadata": {},
   "outputs": [],
   "source": [
    "for n in geral.nodes():\n",
    "    geral.node[n]['pagerank'] = 0\n",
    "    \n",
    "def equals(a, b):\n",
    "    return abs(a - b) < 0.000000001\n",
    "\n",
    "\n",
    "def calculate_pagerank(g):\n",
    "    length = g.number_of_nodes()\n",
    "\n",
    "    k = 10\n",
    "    scale = 0.8\n",
    "    residue = (1 - scale) / length\n",
    "\n",
    "    R = sn.build_matrix(g)\n",
    "\n",
    "    for n in g.nodes:\n",
    "        total = np.sum(R[n,])\n",
    "\n",
    "        if equals(total, 0):\n",
    "            R[n, n] = 1\n",
    "        else:\n",
    "            R[n,] /= total\n",
    "\n",
    "    R = scale * R + residue\n",
    "\n",
    "    Rt = R.transpose()\n",
    "\n",
    "    rank = 1 / length\n",
    "\n",
    "    r = np.full((length, 1), rank)\n",
    "\n",
    "    for _ in range(k):\n",
    "        r = Rt.dot(r)\n",
    "\n",
    "    for n in g.nodes:\n",
    "        g.nodes[n]['pagerank'] = r[n, 0]"
   ]
  },
  {
   "cell_type": "code",
   "execution_count": 7,
   "metadata": {
    "collapsed": true
   },
   "outputs": [],
   "source": [
    "topicos = [historia, cultura, dieta, lingua, loc_pop, religiao, geral]\n",
    "\n",
    "tribos = ['guaranis', 'caingangue', 'pataxós', \n",
    "          'caetes', 'caiapos', 'guajajaras', \n",
    "          'ianomamis', 'potiguaras', 'macuxi', 'marubos','tapuias', 'terenas', 'ticunas', 'xavantes' ]\n",
    "\n",
    "\n",
    "for t in topicos:\n",
    "  \n",
    "    for n in t.nodes():\n",
    "        t.node[n]['nome'] = tribos[n]"
   ]
  },
  {
   "cell_type": "code",
   "execution_count": 8,
   "metadata": {
    "collapsed": true
   },
   "outputs": [],
   "source": [
    "def add_edge(g, n, m):\n",
    "    g.add_edge(n,m)\n",
    "    g.edges[n,m]['color'] = (0,0,0)"
   ]
  },
  {
   "cell_type": "code",
   "execution_count": 9,
   "metadata": {
    "collapsed": true
   },
   "outputs": [],
   "source": [
    "for n in historia.nodes():\n",
    "    for m in historia.neighbors(n):\n",
    "        print(m)"
   ]
  },
  {
   "cell_type": "code",
   "execution_count": 10,
   "metadata": {
    "collapsed": true
   },
   "outputs": [],
   "source": [
    "for t in topicos:\n",
    "    for n in t.nodes():\n",
    "        for m in t.nodes():\n",
    "            \n",
    "            x = randint(0,50)\n",
    "\n",
    "            if x > 45 and n != m:\n",
    "                add_edge(t, n, m)\n",
    "    \n",
    "    \n",
    "    for s in t.nodes():\n",
    "        \n",
    "        v = []\n",
    "        \n",
    "        for m in t.neighbors(s):\n",
    "            v.append(m)\n",
    "            \n",
    "        if len(v) < 2:\n",
    "            \n",
    "            some_node = randint(0,13)\n",
    "            add_edge(t, s, some_node)\n",
    "            \n",
    "            some_other_node = randint(0,13)\n",
    "            add_edge(t, s, some_other_node)\n",
    "            "
   ]
  },
  {
   "cell_type": "code",
   "execution_count": 11,
   "metadata": {},
   "outputs": [
    {
     "data": {
      "text/plain": [
       "['macuxi', 'caiapos']"
      ]
     },
     "execution_count": 11,
     "metadata": {},
     "output_type": "execute_result"
    }
   ],
   "source": [
    "def links(g, trib):\n",
    "    \n",
    "    for n in g.nodes():\n",
    "        if g.node[n]['nome'] == trib:\n",
    "            \n",
    "            vizinhos = []\n",
    "            for m in g.neighbors(n):\n",
    "                vizinhos.append(m)\n",
    "    \n",
    "    temp = random.sample(set(vizinhos), 2)\n",
    "    \n",
    "    ans = []\n",
    "    for num in temp:\n",
    "        \n",
    "        ans.append(g.node[num]['nome'])\n",
    "        \n",
    "    return ans\n",
    "    \n",
    "links(loc_pop, 'potiguaras')"
   ]
  },
  {
   "cell_type": "code",
   "execution_count": 12,
   "metadata": {},
   "outputs": [
    {
     "data": {
      "application/vnd.plotly.v1+json": {
       "data": [
        {
         "hoverinfo": "none",
         "line": {
          "color": "rgb(0, 0, 0)",
          "width": 1
         },
         "mode": "lines",
         "x": [
          1,
          0.9984447977054457,
          null,
          1,
          0.7390194888398789,
          null,
          1,
          0.8702217031190663,
          null,
          1,
          0.03821516792730975,
          null,
          1,
          0.3334284188055625,
          null,
          0.5069266055212666,
          0.1316515396666088,
          null,
          0.5069266055212666,
          0.9984447977054457,
          null,
          0.5069266055212666,
          0.3334284188055625,
          null,
          0,
          0.30541373691012985,
          null,
          0,
          0.7138819756106133,
          null,
          0,
          0.9984447977054457,
          null,
          0.7390194888398789,
          0.03821516792730975,
          null,
          0.8702217031190663,
          0.1316515396666088,
          null,
          0.7138819756106133,
          0.9089874343180644,
          null,
          0.1342030523330242,
          0.30541373691012985,
          null,
          0.1342030523330242,
          0.524093143836097,
          null,
          0.1342030523330242,
          0.9089874343180644,
          null,
          0.30541373691012985,
          0.524093143836097,
          null,
          0.03821516792730975,
          0.524093143836097,
          null,
          0.3334284188055625,
          0.524093143836097,
          null
         ],
         "y": [
          0.6253871477730677,
          0.3657824364757064,
          null,
          0.6253871477730677,
          0.9965522084010707,
          null,
          0.6253871477730677,
          0.807171340956653,
          null,
          0.6253871477730677,
          0.6085043029671875,
          null,
          0.6253871477730677,
          1,
          null,
          0,
          0.8333956652469839,
          null,
          0,
          0.3657824364757064,
          null,
          0,
          1,
          null,
          0.36486279646199793,
          0.05214082910845698,
          null,
          0.36486279646199793,
          0.012557343712338898,
          null,
          0.36486279646199793,
          0.3657824364757064,
          null,
          0.9965522084010707,
          0.6085043029671875,
          null,
          0.807171340956653,
          0.8333956652469839,
          null,
          0.012557343712338898,
          0.1259011901340363,
          null,
          0.18321659730515238,
          0.05214082910845698,
          null,
          0.18321659730515238,
          0.9616929341547291,
          null,
          0.18321659730515238,
          0.1259011901340363,
          null,
          0.05214082910845698,
          0.9616929341547291,
          null,
          0.6085043029671875,
          0.9616929341547291,
          null,
          1,
          0.9616929341547291,
          null
         ]
        },
        {
         "hoverinfo": "none",
         "marker": {
          "color": "rgb(255, 255, 255)",
          "line": {
           "color": "rgb(0, 0, 0)",
           "width": 1
          },
          "size": 20
         },
         "mode": "markers+text",
         "text": [],
         "textfont": {
          "color": "rgb(0, 0, 0)"
         },
         "textposition": "middle center",
         "x": [
          1,
          0.5069266055212666,
          0,
          0.7390194888398789,
          0.8702217031190663,
          0.7138819756106133,
          0.1342030523330242,
          0.9089874343180644,
          0.30541373691012985,
          0.1316515396666088,
          0.9984447977054457,
          0.03821516792730975,
          0.3334284188055625,
          0.524093143836097
         ],
         "y": [
          0.6253871477730677,
          0,
          0.36486279646199793,
          0.9965522084010707,
          0.807171340956653,
          0.012557343712338898,
          0.18321659730515238,
          0.1259011901340363,
          0.05214082910845698,
          0.8333956652469839,
          0.3657824364757064,
          0.6085043029671875,
          1,
          0.9616929341547291
         ]
        }
       ],
       "layout": {
        "height": 225,
        "margin": {
         "b": 0,
         "l": 0,
         "r": 0,
         "t": 0
        },
        "showlegend": false,
        "width": 400,
        "xaxis": {
         "showgrid": false,
         "showticklabels": false,
         "zeroline": false
        },
        "yaxis": {
         "showgrid": false,
         "showticklabels": false,
         "zeroline": false
        }
       }
      },
      "text/html": [
       "<div id=\"89ba553f-4893-4547-87e8-8db9f5496523\" style=\"height: 225px; width: 400px;\" class=\"plotly-graph-div\"></div><script type=\"text/javascript\">require([\"plotly\"], function(Plotly) { window.PLOTLYENV=window.PLOTLYENV || {};window.PLOTLYENV.BASE_URL=\"https://plot.ly\";Plotly.newPlot(\"89ba553f-4893-4547-87e8-8db9f5496523\", [{\"x\": [1.0, 0.9984447977054457, null, 1.0, 0.7390194888398789, null, 1.0, 0.8702217031190663, null, 1.0, 0.03821516792730975, null, 1.0, 0.3334284188055625, null, 0.5069266055212666, 0.1316515396666088, null, 0.5069266055212666, 0.9984447977054457, null, 0.5069266055212666, 0.3334284188055625, null, 0.0, 0.30541373691012985, null, 0.0, 0.7138819756106133, null, 0.0, 0.9984447977054457, null, 0.7390194888398789, 0.03821516792730975, null, 0.8702217031190663, 0.1316515396666088, null, 0.7138819756106133, 0.9089874343180644, null, 0.1342030523330242, 0.30541373691012985, null, 0.1342030523330242, 0.524093143836097, null, 0.1342030523330242, 0.9089874343180644, null, 0.30541373691012985, 0.524093143836097, null, 0.03821516792730975, 0.524093143836097, null, 0.3334284188055625, 0.524093143836097, null], \"y\": [0.6253871477730677, 0.3657824364757064, null, 0.6253871477730677, 0.9965522084010707, null, 0.6253871477730677, 0.807171340956653, null, 0.6253871477730677, 0.6085043029671875, null, 0.6253871477730677, 1.0, null, 0.0, 0.8333956652469839, null, 0.0, 0.3657824364757064, null, 0.0, 1.0, null, 0.36486279646199793, 0.05214082910845698, null, 0.36486279646199793, 0.012557343712338898, null, 0.36486279646199793, 0.3657824364757064, null, 0.9965522084010707, 0.6085043029671875, null, 0.807171340956653, 0.8333956652469839, null, 0.012557343712338898, 0.1259011901340363, null, 0.18321659730515238, 0.05214082910845698, null, 0.18321659730515238, 0.9616929341547291, null, 0.18321659730515238, 0.1259011901340363, null, 0.05214082910845698, 0.9616929341547291, null, 0.6085043029671875, 0.9616929341547291, null, 1.0, 0.9616929341547291, null], \"hoverinfo\": \"none\", \"mode\": \"lines\", \"line\": {\"width\": 1, \"color\": \"rgb(0, 0, 0)\"}}, {\"x\": [1.0, 0.5069266055212666, 0.0, 0.7390194888398789, 0.8702217031190663, 0.7138819756106133, 0.1342030523330242, 0.9089874343180644, 0.30541373691012985, 0.1316515396666088, 0.9984447977054457, 0.03821516792730975, 0.3334284188055625, 0.524093143836097], \"y\": [0.6253871477730677, 0.0, 0.36486279646199793, 0.9965522084010707, 0.807171340956653, 0.012557343712338898, 0.18321659730515238, 0.1259011901340363, 0.05214082910845698, 0.8333956652469839, 0.3657824364757064, 0.6085043029671875, 1.0, 0.9616929341547291], \"text\": [], \"textposition\": \"middle center\", \"hoverinfo\": \"none\", \"mode\": \"markers+text\", \"marker\": {\"size\": 20, \"color\": \"rgb(255, 255, 255)\", \"line\": {\"width\": 1, \"color\": \"rgb(0, 0, 0)\"}}, \"textfont\": {\"color\": \"rgb(0, 0, 0)\"}}], {\"showlegend\": false, \"width\": 400, \"height\": 225, \"margin\": {\"b\": 0, \"l\": 0, \"r\": 0, \"t\": 0}, \"xaxis\": {\"showgrid\": false, \"zeroline\": false, \"showticklabels\": false}, \"yaxis\": {\"showgrid\": false, \"zeroline\": false, \"showticklabels\": false}}, {\"showLink\": false, \"linkText\": \"Export to plot.ly\", \"displayModeBar\": false})});</script>"
      ],
      "text/vnd.plotly.v1+html": [
       "<div id=\"89ba553f-4893-4547-87e8-8db9f5496523\" style=\"height: 225px; width: 400px;\" class=\"plotly-graph-div\"></div><script type=\"text/javascript\">require([\"plotly\"], function(Plotly) { window.PLOTLYENV=window.PLOTLYENV || {};window.PLOTLYENV.BASE_URL=\"https://plot.ly\";Plotly.newPlot(\"89ba553f-4893-4547-87e8-8db9f5496523\", [{\"x\": [1.0, 0.9984447977054457, null, 1.0, 0.7390194888398789, null, 1.0, 0.8702217031190663, null, 1.0, 0.03821516792730975, null, 1.0, 0.3334284188055625, null, 0.5069266055212666, 0.1316515396666088, null, 0.5069266055212666, 0.9984447977054457, null, 0.5069266055212666, 0.3334284188055625, null, 0.0, 0.30541373691012985, null, 0.0, 0.7138819756106133, null, 0.0, 0.9984447977054457, null, 0.7390194888398789, 0.03821516792730975, null, 0.8702217031190663, 0.1316515396666088, null, 0.7138819756106133, 0.9089874343180644, null, 0.1342030523330242, 0.30541373691012985, null, 0.1342030523330242, 0.524093143836097, null, 0.1342030523330242, 0.9089874343180644, null, 0.30541373691012985, 0.524093143836097, null, 0.03821516792730975, 0.524093143836097, null, 0.3334284188055625, 0.524093143836097, null], \"y\": [0.6253871477730677, 0.3657824364757064, null, 0.6253871477730677, 0.9965522084010707, null, 0.6253871477730677, 0.807171340956653, null, 0.6253871477730677, 0.6085043029671875, null, 0.6253871477730677, 1.0, null, 0.0, 0.8333956652469839, null, 0.0, 0.3657824364757064, null, 0.0, 1.0, null, 0.36486279646199793, 0.05214082910845698, null, 0.36486279646199793, 0.012557343712338898, null, 0.36486279646199793, 0.3657824364757064, null, 0.9965522084010707, 0.6085043029671875, null, 0.807171340956653, 0.8333956652469839, null, 0.012557343712338898, 0.1259011901340363, null, 0.18321659730515238, 0.05214082910845698, null, 0.18321659730515238, 0.9616929341547291, null, 0.18321659730515238, 0.1259011901340363, null, 0.05214082910845698, 0.9616929341547291, null, 0.6085043029671875, 0.9616929341547291, null, 1.0, 0.9616929341547291, null], \"hoverinfo\": \"none\", \"mode\": \"lines\", \"line\": {\"width\": 1, \"color\": \"rgb(0, 0, 0)\"}}, {\"x\": [1.0, 0.5069266055212666, 0.0, 0.7390194888398789, 0.8702217031190663, 0.7138819756106133, 0.1342030523330242, 0.9089874343180644, 0.30541373691012985, 0.1316515396666088, 0.9984447977054457, 0.03821516792730975, 0.3334284188055625, 0.524093143836097], \"y\": [0.6253871477730677, 0.0, 0.36486279646199793, 0.9965522084010707, 0.807171340956653, 0.012557343712338898, 0.18321659730515238, 0.1259011901340363, 0.05214082910845698, 0.8333956652469839, 0.3657824364757064, 0.6085043029671875, 1.0, 0.9616929341547291], \"text\": [], \"textposition\": \"middle center\", \"hoverinfo\": \"none\", \"mode\": \"markers+text\", \"marker\": {\"size\": 20, \"color\": \"rgb(255, 255, 255)\", \"line\": {\"width\": 1, \"color\": \"rgb(0, 0, 0)\"}}, \"textfont\": {\"color\": \"rgb(0, 0, 0)\"}}], {\"showlegend\": false, \"width\": 400, \"height\": 225, \"margin\": {\"b\": 0, \"l\": 0, \"r\": 0, \"t\": 0}, \"xaxis\": {\"showgrid\": false, \"zeroline\": false, \"showticklabels\": false}, \"yaxis\": {\"showgrid\": false, \"zeroline\": false, \"showticklabels\": false}}, {\"showLink\": false, \"linkText\": \"Export to plot.ly\", \"displayModeBar\": false})});</script>"
      ]
     },
     "metadata": {},
     "output_type": "display_data"
    }
   ],
   "source": [
    "sn.show_graph(geral)"
   ]
  },
  {
   "cell_type": "code",
   "execution_count": 16,
   "metadata": {
    "collapsed": true
   },
   "outputs": [],
   "source": [
    "calculate_pagerank(geral)\n",
    "\n",
    "pr = []\n",
    "for n in geral.nodes():\n",
    "    pr.append((geral.node[n]['nome'],geral.node[n]['pagerank']))"
   ]
  },
  {
   "cell_type": "code",
   "execution_count": 17,
   "metadata": {},
   "outputs": [
    {
     "data": {
      "text/plain": [
       "[('guaranis', 0.1143875472898495),\n",
       " ('caingangue', 0.075132780515014097),\n",
       " ('pataxós', 0.076093969444344489),\n",
       " ('caetes', 0.0517361718497929),\n",
       " ('caiapos', 0.055213208724465973),\n",
       " ('guajajaras', 0.057675152378283127),\n",
       " ('ianomamis', 0.075112493764229252),\n",
       " ('potiguaras', 0.057249899934507235),\n",
       " ('macuxi', 0.073096492221865858),\n",
       " ('marubos', 0.05647624439303283),\n",
       " ('tapuias', 0.073199469680009538),\n",
       " ('terenas', 0.071743614139122808),\n",
       " ('ticunas', 0.071202340596932909),\n",
       " ('xavantes', 0.091680615068549298)]"
      ]
     },
     "execution_count": 17,
     "metadata": {},
     "output_type": "execute_result"
    }
   ],
   "source": [
    "pr"
   ]
  },
  {
   "cell_type": "code",
   "execution_count": null,
   "metadata": {
    "collapsed": true
   },
   "outputs": [],
   "source": []
  }
 ],
 "metadata": {
  "kernelspec": {
   "display_name": "Python 3",
   "language": "python",
   "name": "python3"
  },
  "language_info": {
   "codemirror_mode": {
    "name": "ipython",
    "version": 3
   },
   "file_extension": ".py",
   "mimetype": "text/x-python",
   "name": "python",
   "nbconvert_exporter": "python",
   "pygments_lexer": "ipython3",
   "version": "3.6.3"
  }
 },
 "nbformat": 4,
 "nbformat_minor": 2
}
